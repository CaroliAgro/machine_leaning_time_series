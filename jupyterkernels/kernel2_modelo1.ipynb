{
 "cells": [
  {
   "cell_type": "code",
   "execution_count": 53,
   "id": "stable-lunch",
   "metadata": {},
   "outputs": [],
   "source": [
    "import pandas as pd\n",
    "import numpy as np\n",
    "import matplotlib.pyplot as plt"
   ]
  },
  {
   "cell_type": "code",
   "execution_count": 54,
   "id": "useful-tactics",
   "metadata": {},
   "outputs": [],
   "source": [
    "df = pd.read_csv(\"raw_data_with_labels.csv\", index_col=0)\n",
    "df=df[df['y'].notnull()]"
   ]
  },
  {
   "cell_type": "code",
   "execution_count": 55,
   "id": "detailed-cleaner",
   "metadata": {},
   "outputs": [
    {
     "data": {
      "text/plain": [
       "(498, 16)"
      ]
     },
     "execution_count": 55,
     "metadata": {},
     "output_type": "execute_result"
    }
   ],
   "source": [
    "df.shape"
   ]
  },
  {
   "cell_type": "code",
   "execution_count": 56,
   "id": "angry-blood",
   "metadata": {},
   "outputs": [],
   "source": [
    "df_limpo = pd.DataFrame(index=df.index)"
   ]
  },
  {
   "cell_type": "code",
   "execution_count": 57,
   "id": "floppy-profession",
   "metadata": {},
   "outputs": [],
   "source": [
    "clean_date = df['watch-time-text'].str.extract(r\"(\\d+) de ([a-z]+)\\. de (\\d+)\")\n",
    "clean_date[0] = clean_date[0].map(lambda x: \"0\"+x if len(x)==1 else x)"
   ]
  },
  {
   "cell_type": "code",
   "execution_count": 58,
   "id": "metropolitan-construction",
   "metadata": {},
   "outputs": [],
   "source": [
    "mapa_meses = {\"jan\":\"Jan\", \"fev\":\"Feb\", \"mar\":\"Mar\", \"abr\":\"Apr\", \"mai\":\"May\", \"jun\":\"Jun\",\"jul\":\"Jul\", \"ago\":\"Aug\", \"set\":\"Sep\",\"out\":\"Oct\",\"nov\":\"Nov\",\"dez\":\"Dec\"}\n",
    "clean_date[1] = clean_date[1].map(mapa_meses)"
   ]
  },
  {
   "cell_type": "code",
   "execution_count": 59,
   "id": "intimate-cross",
   "metadata": {},
   "outputs": [],
   "source": [
    "clean_date = clean_date.apply(lambda x: \" \".join(x), axis=1)"
   ]
  },
  {
   "cell_type": "code",
   "execution_count": 60,
   "id": "mobile-startup",
   "metadata": {},
   "outputs": [
    {
     "name": "stdout",
     "output_type": "stream",
     "text": [
      "0      03 Sep 2018\n",
      "1      16 Nov 2018\n",
      "2      02 May 2019\n",
      "3      13 Aug 2019\n",
      "4      30 Nov 2018\n",
      "          ...     \n",
      "496    01 Mar 2018\n",
      "497    31 May 2018\n",
      "498    10 Nov 2019\n",
      "499    25 Apr 2019\n",
      "500    21 Mar 2019\n",
      "Length: 498, dtype: object\n"
     ]
    }
   ],
   "source": [
    "print(clean_date)"
   ]
  },
  {
   "cell_type": "code",
   "execution_count": 61,
   "id": "stock-stuart",
   "metadata": {},
   "outputs": [],
   "source": [
    "df_limpo['date'] = pd.to_datetime(clean_date, format=\"%d %b %Y\")"
   ]
  },
  {
   "cell_type": "code",
   "execution_count": 62,
   "id": "tutorial-puzzle",
   "metadata": {},
   "outputs": [
    {
     "data": {
      "text/html": [
       "<div>\n",
       "<style scoped>\n",
       "    .dataframe tbody tr th:only-of-type {\n",
       "        vertical-align: middle;\n",
       "    }\n",
       "\n",
       "    .dataframe tbody tr th {\n",
       "        vertical-align: top;\n",
       "    }\n",
       "\n",
       "    .dataframe thead th {\n",
       "        text-align: right;\n",
       "    }\n",
       "</style>\n",
       "<table border=\"1\" class=\"dataframe\">\n",
       "  <thead>\n",
       "    <tr style=\"text-align: right;\">\n",
       "      <th></th>\n",
       "      <th>date</th>\n",
       "    </tr>\n",
       "  </thead>\n",
       "  <tbody>\n",
       "    <tr>\n",
       "      <th>0</th>\n",
       "      <td>2018-09-03</td>\n",
       "    </tr>\n",
       "    <tr>\n",
       "      <th>1</th>\n",
       "      <td>2018-11-16</td>\n",
       "    </tr>\n",
       "    <tr>\n",
       "      <th>2</th>\n",
       "      <td>2019-05-02</td>\n",
       "    </tr>\n",
       "    <tr>\n",
       "      <th>3</th>\n",
       "      <td>2019-08-13</td>\n",
       "    </tr>\n",
       "    <tr>\n",
       "      <th>4</th>\n",
       "      <td>2018-11-30</td>\n",
       "    </tr>\n",
       "    <tr>\n",
       "      <th>...</th>\n",
       "      <td>...</td>\n",
       "    </tr>\n",
       "    <tr>\n",
       "      <th>496</th>\n",
       "      <td>2018-03-01</td>\n",
       "    </tr>\n",
       "    <tr>\n",
       "      <th>497</th>\n",
       "      <td>2018-05-31</td>\n",
       "    </tr>\n",
       "    <tr>\n",
       "      <th>498</th>\n",
       "      <td>2019-11-10</td>\n",
       "    </tr>\n",
       "    <tr>\n",
       "      <th>499</th>\n",
       "      <td>2019-04-25</td>\n",
       "    </tr>\n",
       "    <tr>\n",
       "      <th>500</th>\n",
       "      <td>2019-03-21</td>\n",
       "    </tr>\n",
       "  </tbody>\n",
       "</table>\n",
       "<p>498 rows × 1 columns</p>\n",
       "</div>"
      ],
      "text/plain": [
       "          date\n",
       "0   2018-09-03\n",
       "1   2018-11-16\n",
       "2   2019-05-02\n",
       "3   2019-08-13\n",
       "4   2018-11-30\n",
       "..         ...\n",
       "496 2018-03-01\n",
       "497 2018-05-31\n",
       "498 2019-11-10\n",
       "499 2019-04-25\n",
       "500 2019-03-21\n",
       "\n",
       "[498 rows x 1 columns]"
      ]
     },
     "execution_count": 62,
     "metadata": {},
     "output_type": "execute_result"
    }
   ],
   "source": [
    "df_limpo"
   ]
  },
  {
   "cell_type": "code",
   "execution_count": 63,
   "id": "intellectual-hawaiian",
   "metadata": {},
   "outputs": [
    {
     "name": "stderr",
     "output_type": "stream",
     "text": [
      "<ipython-input-63-80e92b4286bd>:1: FutureWarning: The default value of regex will change from True to False in a future version. In addition, single character regular expressions will*not* be treated as literal strings when regex=True.\n",
      "  views = df['watch-view-count'].str.extract(r\"(\\d+\\.?\\d*)\", expand=False).str.replace(\".\",\"\").fillna(0).astype(int)\n"
     ]
    }
   ],
   "source": [
    "views = df['watch-view-count'].str.extract(r\"(\\d+\\.?\\d*)\", expand=False).str.replace(\".\",\"\").fillna(0).astype(int)"
   ]
  },
  {
   "cell_type": "code",
   "execution_count": 64,
   "id": "quiet-maldives",
   "metadata": {},
   "outputs": [],
   "source": [
    "df_limpo['views'] =views"
   ]
  },
  {
   "cell_type": "code",
   "execution_count": 65,
   "id": "massive-activation",
   "metadata": {},
   "outputs": [
    {
     "data": {
      "text/html": [
       "<div>\n",
       "<style scoped>\n",
       "    .dataframe tbody tr th:only-of-type {\n",
       "        vertical-align: middle;\n",
       "    }\n",
       "\n",
       "    .dataframe tbody tr th {\n",
       "        vertical-align: top;\n",
       "    }\n",
       "\n",
       "    .dataframe thead th {\n",
       "        text-align: right;\n",
       "    }\n",
       "</style>\n",
       "<table border=\"1\" class=\"dataframe\">\n",
       "  <thead>\n",
       "    <tr style=\"text-align: right;\">\n",
       "      <th></th>\n",
       "      <th>date</th>\n",
       "      <th>views</th>\n",
       "    </tr>\n",
       "  </thead>\n",
       "  <tbody>\n",
       "    <tr>\n",
       "      <th>0</th>\n",
       "      <td>2018-09-03</td>\n",
       "      <td>28028</td>\n",
       "    </tr>\n",
       "    <tr>\n",
       "      <th>1</th>\n",
       "      <td>2018-11-16</td>\n",
       "      <td>1131</td>\n",
       "    </tr>\n",
       "    <tr>\n",
       "      <th>2</th>\n",
       "      <td>2019-05-02</td>\n",
       "      <td>1816</td>\n",
       "    </tr>\n",
       "    <tr>\n",
       "      <th>3</th>\n",
       "      <td>2019-08-13</td>\n",
       "      <td>1171</td>\n",
       "    </tr>\n",
       "    <tr>\n",
       "      <th>4</th>\n",
       "      <td>2018-11-30</td>\n",
       "      <td>1228</td>\n",
       "    </tr>\n",
       "    <tr>\n",
       "      <th>...</th>\n",
       "      <td>...</td>\n",
       "      <td>...</td>\n",
       "    </tr>\n",
       "    <tr>\n",
       "      <th>496</th>\n",
       "      <td>2018-03-01</td>\n",
       "      <td>170932</td>\n",
       "    </tr>\n",
       "    <tr>\n",
       "      <th>497</th>\n",
       "      <td>2018-05-31</td>\n",
       "      <td>69644</td>\n",
       "    </tr>\n",
       "    <tr>\n",
       "      <th>498</th>\n",
       "      <td>2019-11-10</td>\n",
       "      <td>470</td>\n",
       "    </tr>\n",
       "    <tr>\n",
       "      <th>499</th>\n",
       "      <td>2019-04-25</td>\n",
       "      <td>99855</td>\n",
       "    </tr>\n",
       "    <tr>\n",
       "      <th>500</th>\n",
       "      <td>2019-03-21</td>\n",
       "      <td>17363</td>\n",
       "    </tr>\n",
       "  </tbody>\n",
       "</table>\n",
       "<p>498 rows × 2 columns</p>\n",
       "</div>"
      ],
      "text/plain": [
       "          date   views\n",
       "0   2018-09-03   28028\n",
       "1   2018-11-16    1131\n",
       "2   2019-05-02    1816\n",
       "3   2019-08-13    1171\n",
       "4   2018-11-30    1228\n",
       "..         ...     ...\n",
       "496 2018-03-01  170932\n",
       "497 2018-05-31   69644\n",
       "498 2019-11-10     470\n",
       "499 2019-04-25   99855\n",
       "500 2019-03-21   17363\n",
       "\n",
       "[498 rows x 2 columns]"
      ]
     },
     "execution_count": 65,
     "metadata": {},
     "output_type": "execute_result"
    }
   ],
   "source": [
    "df_limpo"
   ]
  },
  {
   "cell_type": "code",
   "execution_count": 66,
   "id": "sensitive-grave",
   "metadata": {},
   "outputs": [],
   "source": [
    "features = pd.DataFrame(index=df_limpo.index)\n",
    "y = df['y'].copy()"
   ]
  },
  {
   "cell_type": "code",
   "execution_count": 67,
   "id": "perfect-latvia",
   "metadata": {},
   "outputs": [],
   "source": [
    "features['tempo_desd_pub'] = (pd.to_datetime(\"2021-02-13\") - df_limpo['date'])/np.timedelta64(1, \"D\")\n",
    "features['views'] = df_limpo['views']\n",
    "features['views_por_dias'] = features['views'] / features['tempo_desd_pub']\n",
    "features = features.drop(['tempo_desd_pub'], axis =1)"
   ]
  },
  {
   "cell_type": "code",
   "execution_count": 68,
   "id": "apparent-article",
   "metadata": {},
   "outputs": [
    {
     "data": {
      "text/plain": [
       "498"
      ]
     },
     "execution_count": 68,
     "metadata": {},
     "output_type": "execute_result"
    }
   ],
   "source": [
    "len(features)"
   ]
  },
  {
   "cell_type": "code",
   "execution_count": 80,
   "id": "brazilian-ukraine",
   "metadata": {},
   "outputs": [
    {
     "data": {
      "text/html": [
       "<div>\n",
       "<style scoped>\n",
       "    .dataframe tbody tr th:only-of-type {\n",
       "        vertical-align: middle;\n",
       "    }\n",
       "\n",
       "    .dataframe tbody tr th {\n",
       "        vertical-align: top;\n",
       "    }\n",
       "\n",
       "    .dataframe thead th {\n",
       "        text-align: right;\n",
       "    }\n",
       "</style>\n",
       "<table border=\"1\" class=\"dataframe\">\n",
       "  <thead>\n",
       "    <tr style=\"text-align: right;\">\n",
       "      <th></th>\n",
       "      <th>views</th>\n",
       "      <th>views_por_dias</th>\n",
       "    </tr>\n",
       "  </thead>\n",
       "  <tbody>\n",
       "    <tr>\n",
       "      <th>0</th>\n",
       "      <td>28028</td>\n",
       "      <td>31.351230</td>\n",
       "    </tr>\n",
       "    <tr>\n",
       "      <th>1</th>\n",
       "      <td>1131</td>\n",
       "      <td>1.379268</td>\n",
       "    </tr>\n",
       "    <tr>\n",
       "      <th>2</th>\n",
       "      <td>1816</td>\n",
       "      <td>2.781011</td>\n",
       "    </tr>\n",
       "    <tr>\n",
       "      <th>3</th>\n",
       "      <td>1171</td>\n",
       "      <td>2.129091</td>\n",
       "    </tr>\n",
       "    <tr>\n",
       "      <th>4</th>\n",
       "      <td>1228</td>\n",
       "      <td>1.523573</td>\n",
       "    </tr>\n",
       "  </tbody>\n",
       "</table>\n",
       "</div>"
      ],
      "text/plain": [
       "   views  views_por_dias\n",
       "0  28028       31.351230\n",
       "1   1131        1.379268\n",
       "2   1816        2.781011\n",
       "3   1171        2.129091\n",
       "4   1228        1.523573"
      ]
     },
     "execution_count": 80,
     "metadata": {},
     "output_type": "execute_result"
    }
   ],
   "source": [
    "features.head()"
   ]
  },
  {
   "cell_type": "code",
   "execution_count": 70,
   "id": "meaning-copyright",
   "metadata": {},
   "outputs": [
    {
     "data": {
      "text/plain": [
       "<AxesSubplot:>"
      ]
     },
     "execution_count": 70,
     "metadata": {},
     "output_type": "execute_result"
    },
    {
     "data": {
      "image/png": "[encoded data removed]",
      "text/plain": [
       "<Figure size 1440x720 with 1 Axes>"
      ]
     },
     "metadata": {
      "needs_background": "light"
     },
     "output_type": "display_data"
    }
   ],
   "source": [
    "df_limpo['date'].value_counts().plot(figsize=(20,10))"
   ]
  },
  {
   "cell_type": "code",
   "execution_count": 81,
   "id": "regulation-mills",
   "metadata": {},
   "outputs": [],
   "source": [
    "X_train, X_val = features[df_limpo['date']<\"2019-04-01\"], features[df_limpo['date']>=\"2019-04-01\"]\n",
    "y_train, y_val = y[df_limpo['date']<\"2019-04-01\"], y[df_limpo['date']>=\"2019-04-01\"]\n"
   ]
  },
  {
   "cell_type": "code",
   "execution_count": 151,
   "id": "excited-surname",
   "metadata": {},
   "outputs": [],
   "source": [
    "from sklearn.linear_model import LogisticRegression\n",
    "from sklearn.tree import DecisionTreeClassifier\n",
    "from sklearn.model_selection import train_test_split\n",
    "from sklearn import metrics "
   ]
  },
  {
   "cell_type": "code",
   "execution_count": 83,
   "id": "noble-thousand",
   "metadata": {},
   "outputs": [
    {
     "data": {
      "text/plain": [
       "228"
      ]
     },
     "execution_count": 83,
     "metadata": {},
     "output_type": "execute_result"
    }
   ],
   "source": [
    "y_train.sum()\n",
    "len(y_train)"
   ]
  },
  {
   "cell_type": "code",
   "execution_count": 156,
   "id": "structured-zoning",
   "metadata": {},
   "outputs": [
    {
     "data": {
      "text/plain": [
       "DecisionTreeClassifier(class_weight='balanced', max_depth=2)"
      ]
     },
     "execution_count": 156,
     "metadata": {},
     "output_type": "execute_result"
    }
   ],
   "source": [
    "#classes desbalanceadas da um peso maior para classe positiva\n",
    "#penalidade recebida pelo modelo quando comete um erro multiplica pelo peso maior para exxemplos positivos\n",
    "mdl = DecisionTreeClassifier( max_depth=2, class_weight='balanced')\n",
    "mdl.fit(X_train, y_train)"
   ]
  },
  {
   "cell_type": "code",
   "execution_count": 157,
   "id": "honey-basis",
   "metadata": {},
   "outputs": [],
   "source": [
    "#duas colunas primeira probabilidade de ser 0 e outra probabilidade de ser 1\n",
    "p = mdl.predict_proba(X_val)[:, 1]"
   ]
  },
  {
   "cell_type": "code",
   "execution_count": 158,
   "id": "seven-incident",
   "metadata": {},
   "outputs": [],
   "source": [
    "from sklearn.metrics import roc_auc_score, average_precision_score"
   ]
  },
  {
   "cell_type": "code",
   "execution_count": 159,
   "id": "instructional-welcome",
   "metadata": {},
   "outputs": [
    {
     "data": {
      "text/plain": [
       "0.17022043550822075"
      ]
     },
     "execution_count": 159,
     "metadata": {},
     "output_type": "execute_result"
    }
   ],
   "source": [
    "#ranking\n",
    "# se vc calcula a precisão e recall em cada ponto\n",
    "# de todos os pontos que meu modelo disse ser positivos quantos ele acertos -precisão\n",
    "# entre todas as classificações de classe Positivo em p que o modelo fez, quantas estão corretas;\n",
    "# de todos os pontos que são positivos em yval quantos acertou o modelo\n",
    "average_precision_score(y_val, p)"
   ]
  },
  {
   "cell_type": "code",
   "execution_count": 160,
   "id": "recreational-musician",
   "metadata": {},
   "outputs": [],
   "source": [
    "#area sobre a curva do roc\n",
    "#só exemplos positivos qual a probabilidade que atribuiu a eles de serem positivos\n",
    "# negativos todos os exemplos que sabemos que são negativos e qual a probabilidade atribuida a ele de ser positivo pelo modelo\n",
    "positivos=[0.1, 0.2, 0.3]\n",
    "negativo = [0.1, 0.2, 0.5]\n",
    "# aaleatoriaza pega um negativo e 1 positivo, AUC próximo do 0, o que significa que tem a pior medida de separabilidade, ou seja, está prevendo 0s como 1s e 1s como 0s\n",
    "auc =roc_auc_score(y_val, p)"
   ]
  },
  {
   "cell_type": "code",
   "execution_count": 161,
   "id": "boring-pencil",
   "metadata": {},
   "outputs": [],
   "source": [
    "fpr, tpr, _ = metrics.roc_curve(y_val,  p)"
   ]
  },
  {
   "cell_type": "code",
   "execution_count": 162,
   "id": "suffering-humanity",
   "metadata": {},
   "outputs": [
    {
     "data": {
      "image/png": "[encoded data removed]",
      "text/plain": [
       "<Figure size 432x288 with 1 Axes>"
      ]
     },
     "metadata": {
      "needs_background": "light"
     },
     "output_type": "display_data"
    }
   ],
   "source": [
    "plt.plot(fpr,tpr,label=\"data 1, auc=\"+str(auc))\n",
    "plt.legend(loc=4)\n",
    "plt.show()"
   ]
  },
  {
   "cell_type": "code",
   "execution_count": 110,
   "id": "quiet-memphis",
   "metadata": {},
   "outputs": [],
   "source": [
    "x = list(y_val)"
   ]
  },
  {
   "cell_type": "code",
   "execution_count": 164,
   "id": "bizarre-course",
   "metadata": {},
   "outputs": [
    {
     "data": {
      "text/plain": [
       "0.8"
      ]
     },
     "execution_count": 164,
     "metadata": {},
     "output_type": "execute_result"
    }
   ],
   "source": [
    "index_positivos = []\n",
    "index_negativos = []\n",
    "for i in range(len(x)):\n",
    "    if x[i]==1.0:\n",
    "        index_positivos.append(i)\n",
    "    else:\n",
    "        index_negativos.append(i)      \n",
    "roc_teste = []\n",
    "for i in range(0, 10):\n",
    "    tp = random.randint(0, len(index_positivos)-1)\n",
    "    tn = random.randint(0, len(index_negativos)-1)\n",
    "    negativo = index_negativos[tn]\n",
    "    positivo = index_positivos[tp]\n",
    "\n",
    "    if p[negativo] > p[positivo]:\n",
    "        roc_teste.append(0)\n",
    "    else: \n",
    "        roc_teste.append(1)  \n",
    "sum(roc_teste)/len(roc_teste)"
   ]
  },
  {
   "cell_type": "code",
   "execution_count": 169,
   "id": "published-camera",
   "metadata": {},
   "outputs": [],
   "source": [
    "import pylab"
   ]
  },
  {
   "cell_type": "code",
   "execution_count": 165,
   "id": "assumed-cartoon",
   "metadata": {},
   "outputs": [],
   "source": [
    "from sklearn.tree import plot_tree"
   ]
  },
  {
   "cell_type": "code",
   "execution_count": 171,
   "id": "institutional-soviet",
   "metadata": {},
   "outputs": [
    {
     "data": {
      "text/plain": [
       "[Text(279.0, 453.0, 'views_por_dias <= 16.132\\ngini = 0.5\\nsamples = 228\\nvalue = [114.0, 114.0]'),\n",
       " Text(139.5, 271.8, 'views <= 397.5\\ngini = 0.478\\nsamples = 130\\nvalue = [60.49, 92.625]'),\n",
       " Text(69.75, 90.59999999999997, 'gini = 0.379\\nsamples = 19\\nvalue = [10.469, 3.562]'),\n",
       " Text(209.25, 90.59999999999997, 'gini = 0.461\\nsamples = 111\\nvalue = [50.02, 89.062]'),\n",
       " Text(418.5, 271.8, 'views <= 26712.0\\ngini = 0.408\\nsamples = 98\\nvalue = [53.51, 21.375]'),\n",
       " Text(348.75, 90.59999999999997, 'gini = 0.0\\nsamples = 23\\nvalue = [13.378, 0.0]'),\n",
       " Text(488.25, 90.59999999999997, 'gini = 0.453\\nsamples = 75\\nvalue = [40.133, 21.375]')]"
      ]
     },
     "execution_count": 171,
     "metadata": {},
     "output_type": "execute_result"
    },
    {
     "data": {
      "image/png": "[encoded data removed]",
      "text/plain": [
       "<Figure size 720x720 with 1 Axes>"
      ]
     },
     "metadata": {
      "needs_background": "light"
     },
     "output_type": "display_data"
    }
   ],
   "source": [
    "fig, ax = pylab.subplots(1,1, figsize=(10,10))\n",
    "plot_tree(mdl, ax=ax, feature_names=X_train.columns)\n",
    "# chance deu gostar é maior no campo value para classe positiva é maior"
   ]
  },
  {
   "cell_type": "code",
   "execution_count": null,
   "id": "thousand-toolbox",
   "metadata": {},
   "outputs": [],
   "source": []
  }
 ],
 "metadata": {
  "kernelspec": {
   "display_name": "Python 3",
   "language": "python",
   "name": "python3"
  },
  "language_info": {
   "codemirror_mode": {
    "name": "ipython",
    "version": 3
   },
   "file_extension": ".py",
   "mimetype": "text/x-python",
   "name": "python",
   "nbconvert_exporter": "python",
   "pygments_lexer": "ipython3",
   "version": "3.9.1"
  }
 },
 "nbformat": 4,
 "nbformat_minor": 5
}
