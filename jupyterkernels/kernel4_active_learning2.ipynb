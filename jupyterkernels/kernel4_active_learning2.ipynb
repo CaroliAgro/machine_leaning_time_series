{
 "cells": [
  {
   "cell_type": "code",
   "execution_count": 15,
   "id": "alien-partner",
   "metadata": {},
   "outputs": [],
   "source": [
    "import pandas as pd\n",
    "import numpy as np\n",
    "import re\n",
    "import time\n",
    "import json\n",
    "import glob\n",
    "import tqdm\n",
    "from sklearn.linear_model import LogisticRegression\n",
    "from sklearn.ensemble import RandomForestClassifier"
   ]
  },
  {
   "cell_type": "code",
   "execution_count": 16,
   "id": "fixed-potential",
   "metadata": {},
   "outputs": [],
   "source": [
    "# active leaning - é muito caro fazer anotações em novos exemplos\n",
    "df = pd.read_csv(\"raw_data_with_labels.csv\", index_col=0)\n",
    "df=df[df['y'].notnull()]"
   ]
  },
  {
   "cell_type": "code",
   "execution_count": 17,
   "id": "returning-glasgow",
   "metadata": {},
   "outputs": [],
   "source": [
    "df_limpo = pd.DataFrame(index=df.index)\n",
    "df_limpo['title'] = df['watch-title']"
   ]
  },
  {
   "cell_type": "code",
   "execution_count": 18,
   "id": "rocky-australia",
   "metadata": {},
   "outputs": [],
   "source": [
    "clean_date= df['watch-time-text'].str.extract(r\"(\\d+) de ([a-z]+)\\. de (\\d+)\")\n",
    "clean_date[0] = clean_date[0].map(lambda x: \"0\"+x if len(x)==1 else x)\n",
    "mapa_meses = {\"jan\":\"Jan\", \"fev\":\"Feb\", \"mar\":\"Mar\", \"abr\":\"Apr\", \"mai\":\"May\", \"jun\":\"Jun\",\"jul\":\"Jul\", \"ago\":\"Aug\", \"set\":\"Sep\",\"out\":\"Oct\",\"nov\":\"Nov\",\"dez\":\"Dec\"}\n",
    "clean_date[1] = clean_date[1].map(mapa_meses)\n",
    "clean_date = clean_date.apply(lambda x: \" \".join(x), axis=1)\n",
    "df_limpo['date'] = pd.to_datetime(clean_date, format=\"%d %b %Y\")"
   ]
  },
  {
   "cell_type": "code",
   "execution_count": 19,
   "id": "logical-chapter",
   "metadata": {},
   "outputs": [
    {
     "name": "stderr",
     "output_type": "stream",
     "text": [
      "<ipython-input-19-86d1434b4248>:1: FutureWarning: The default value of regex will change from True to False in a future version. In addition, single character regular expressions will*not* be treated as literal strings when regex=True.\n",
      "  views = df['watch-view-count'].str.extract(r\"(\\d+\\.?\\d*)\", expand=False).str.replace(\".\",\"\").fillna(0).astype(int)\n"
     ]
    }
   ],
   "source": [
    "views = df['watch-view-count'].str.extract(r\"(\\d+\\.?\\d*)\", expand=False).str.replace(\".\",\"\").fillna(0).astype(int)\n",
    "df_limpo['views'] =views"
   ]
  },
  {
   "cell_type": "code",
   "execution_count": 20,
   "id": "hollow-ticket",
   "metadata": {},
   "outputs": [],
   "source": [
    "features = pd.DataFrame(index=df_limpo.index)\n",
    "y = df['y'].copy()"
   ]
  },
  {
   "cell_type": "code",
   "execution_count": 21,
   "id": "moving-saturday",
   "metadata": {},
   "outputs": [],
   "source": [
    "features['tempo_desd_pub'] = (pd.to_datetime(\"2021-02-13\") - df_limpo['date'])/np.timedelta64(1, \"D\")\n",
    "features['views'] = df_limpo['views']\n",
    "features['views_por_dias'] = features['views'] / features['tempo_desd_pub']\n",
    "features = features.drop(['tempo_desd_pub'], axis =1)"
   ]
  },
  {
   "cell_type": "code",
   "execution_count": 22,
   "id": "younger-canvas",
   "metadata": {},
   "outputs": [
    {
     "data": {
      "text/plain": [
       "((228, 2), (270, 2), (228,), (270,))"
      ]
     },
     "execution_count": 22,
     "metadata": {},
     "output_type": "execute_result"
    }
   ],
   "source": [
    "mask_train = df_limpo['date'] < \"2019-04-01\"\n",
    "mask_val = df_limpo['date'] >= \"2019-04-01\"\n",
    "Xtrain, Xval = features[mask_train], features[mask_val]\n",
    "ytrain, yval = y[mask_train], y[mask_val]\n",
    "Xtrain.shape, Xval.shape, ytrain.shape, yval.shape"
   ]
  },
  {
   "cell_type": "code",
   "execution_count": 23,
   "id": "honey-medline",
   "metadata": {},
   "outputs": [],
   "source": [
    "# da msi peso mais peso para palavras q aparecem muito em determinado exemplo mas nao aparece tanto pro dataset\n",
    "from sklearn.feature_extraction.text import TfidfVectorizer\n",
    "\n",
    "title_train = df_limpo[mask_train]['title']\n",
    "title_val = df_limpo[mask_val]['title']"
   ]
  },
  {
   "cell_type": "code",
   "execution_count": 25,
   "id": "through-travel",
   "metadata": {},
   "outputs": [],
   "source": [
    "title_vec= TfidfVectorizer(min_df=2)"
   ]
  },
  {
   "cell_type": "code",
   "execution_count": 26,
   "id": "second-atmosphere",
   "metadata": {},
   "outputs": [],
   "source": [
    "title_bow_train = title_vec.fit_transform(title_train)\n",
    "title_bow_val = title_vec.transform(title_val)"
   ]
  },
  {
   "cell_type": "code",
   "execution_count": 27,
   "id": "polished-flexibility",
   "metadata": {},
   "outputs": [],
   "source": [
    "from scipy.sparse import hstack, vstack\n",
    "Xtrain_wtitle = hstack([Xtrain, title_bow_train])\n",
    "Xval_wtitle = hstack([Xval, title_bow_val])"
   ]
  },
  {
   "cell_type": "code",
   "execution_count": 28,
   "id": "minimal-exclusion",
   "metadata": {},
   "outputs": [
    {
     "data": {
      "text/plain": [
       "RandomForestClassifier(class_weight='balanced', n_estimators=1000, n_jobs=6,\n",
       "                       random_state=0)"
      ]
     },
     "execution_count": 28,
     "metadata": {},
     "output_type": "execute_result"
    }
   ],
   "source": [
    "mdl=RandomForestClassifier(n_estimators=1000, random_state=0, class_weight=\"balanced\", n_jobs=6)\n",
    "mdl.fit(Xtrain_wtitle, ytrain)"
   ]
  },
  {
   "cell_type": "code",
   "execution_count": 29,
   "id": "subjective-invalid",
   "metadata": {},
   "outputs": [],
   "source": [
    "p=mdl.predict_proba(Xval_wtitle)[:,1]"
   ]
  },
  {
   "cell_type": "code",
   "execution_count": 30,
   "id": "removed-replica",
   "metadata": {},
   "outputs": [],
   "source": [
    "from sklearn.metrics import roc_auc_score, average_precision_score"
   ]
  },
  {
   "cell_type": "code",
   "execution_count": 31,
   "id": "selective-hierarchy",
   "metadata": {},
   "outputs": [
    {
     "data": {
      "text/plain": [
       "0.18465551413200237"
      ]
     },
     "execution_count": 31,
     "metadata": {},
     "output_type": "execute_result"
    }
   ],
   "source": [
    "average_precision_score(yval, p)"
   ]
  },
  {
   "cell_type": "code",
   "execution_count": 32,
   "id": "multiple-graphic",
   "metadata": {},
   "outputs": [],
   "source": [
    "df_unlabeled = pd.read_csv(\"raw_data_with_labels.csv\", index_col=0)\n",
    "df_unlabeled = df_unlabeled[df_unlabeled['y'].isnull()].dropna(how='all')"
   ]
  },
  {
   "cell_type": "code",
   "execution_count": 33,
   "id": "certain-genome",
   "metadata": {},
   "outputs": [],
   "source": [
    "df_limpo_u = pd.DataFrame(index=df_unlabeled.index)\n",
    "df_limpo_u['title'] = df_unlabeled['watch-title']"
   ]
  },
  {
   "cell_type": "code",
   "execution_count": 34,
   "id": "purple-crystal",
   "metadata": {},
   "outputs": [],
   "source": [
    "clean_date= df_unlabeled['watch-time-text'].str.extract(r\"(\\d+) de ([a-z]+)\\. de (\\d+)\")\n",
    "clean_date[0] = clean_date[0].map(lambda x: \"0\"+x if len(x)==1 else x)\n",
    "mapa_meses = {\"jan\":\"Jan\", \"fev\":\"Feb\", \"mar\":\"Mar\", \"abr\":\"Apr\", \"mai\":\"May\", \"jun\":\"Jun\",\"jul\":\"Jul\", \"ago\":\"Aug\", \"set\":\"Sep\",\"out\":\"Oct\",\"nov\":\"Nov\",\"dez\":\"Dec\"}\n",
    "clean_date[1] = clean_date[1].map(mapa_meses)\n",
    "clean_date = clean_date.apply(lambda x: \" \".join(x), axis=1)\n",
    "df_limpo_u['date'] = pd.to_datetime(clean_date, format=\"%d %b %Y\")"
   ]
  },
  {
   "cell_type": "code",
   "execution_count": 35,
   "id": "prostate-temple",
   "metadata": {},
   "outputs": [
    {
     "data": {
      "text/html": [
       "<div>\n",
       "<style scoped>\n",
       "    .dataframe tbody tr th:only-of-type {\n",
       "        vertical-align: middle;\n",
       "    }\n",
       "\n",
       "    .dataframe tbody tr th {\n",
       "        vertical-align: top;\n",
       "    }\n",
       "\n",
       "    .dataframe thead th {\n",
       "        text-align: right;\n",
       "    }\n",
       "</style>\n",
       "<table border=\"1\" class=\"dataframe\">\n",
       "  <thead>\n",
       "    <tr style=\"text-align: right;\">\n",
       "      <th></th>\n",
       "      <th>title</th>\n",
       "      <th>date</th>\n",
       "    </tr>\n",
       "  </thead>\n",
       "  <tbody>\n",
       "    <tr>\n",
       "      <th>501</th>\n",
       "      <td>Kaggle Mercari Price Suggestion Challenge (1 p...</td>\n",
       "      <td>2018-11-02</td>\n",
       "    </tr>\n",
       "    <tr>\n",
       "      <th>502</th>\n",
       "      <td>OpenAI Gym and Python for Q-learning - Reinfor...</td>\n",
       "      <td>2018-10-14</td>\n",
       "    </tr>\n",
       "    <tr>\n",
       "      <th>503</th>\n",
       "      <td>Dashboarding with Notebooks, Day 1: What infor...</td>\n",
       "      <td>2018-12-17</td>\n",
       "    </tr>\n",
       "    <tr>\n",
       "      <th>504</th>\n",
       "      <td>How To Get US- American Company H1 Visa To Get...</td>\n",
       "      <td>2019-11-23</td>\n",
       "    </tr>\n",
       "    <tr>\n",
       "      <th>505</th>\n",
       "      <td>Platform Overview - Machine Learning</td>\n",
       "      <td>2019-05-21</td>\n",
       "    </tr>\n",
       "  </tbody>\n",
       "</table>\n",
       "</div>"
      ],
      "text/plain": [
       "                                                 title       date\n",
       "501  Kaggle Mercari Price Suggestion Challenge (1 p... 2018-11-02\n",
       "502  OpenAI Gym and Python for Q-learning - Reinfor... 2018-10-14\n",
       "503  Dashboarding with Notebooks, Day 1: What infor... 2018-12-17\n",
       "504  How To Get US- American Company H1 Visa To Get... 2019-11-23\n",
       "505               Platform Overview - Machine Learning 2019-05-21"
      ]
     },
     "execution_count": 35,
     "metadata": {},
     "output_type": "execute_result"
    }
   ],
   "source": [
    "df_limpo_u.head()"
   ]
  },
  {
   "cell_type": "code",
   "execution_count": 36,
   "id": "robust-announcement",
   "metadata": {},
   "outputs": [
    {
     "name": "stderr",
     "output_type": "stream",
     "text": [
      "<ipython-input-36-6700095517b9>:1: FutureWarning: The default value of regex will change from True to False in a future version. In addition, single character regular expressions will*not* be treated as literal strings when regex=True.\n",
      "  views = df_unlabeled['watch-view-count'].str.extract(r\"(\\d+\\.?\\d*)\", expand=False).str.replace(\".\",\"\").fillna(0).astype(int)\n"
     ]
    }
   ],
   "source": [
    "views = df_unlabeled['watch-view-count'].str.extract(r\"(\\d+\\.?\\d*)\", expand=False).str.replace(\".\",\"\").fillna(0).astype(int)\n",
    "df_limpo_u['views'] =views"
   ]
  },
  {
   "cell_type": "code",
   "execution_count": 37,
   "id": "magnetic-destination",
   "metadata": {},
   "outputs": [],
   "source": [
    "features_u = pd.DataFrame(index=df_limpo_u.index)"
   ]
  },
  {
   "cell_type": "code",
   "execution_count": 38,
   "id": "agricultural-camcorder",
   "metadata": {},
   "outputs": [],
   "source": [
    "features_u['tempo_desd_pub'] = (pd.to_datetime(\"2021-02-13\") - df_limpo_u['date'])/np.timedelta64(1, \"D\")\n",
    "features_u['views'] = df_limpo_u['views']\n",
    "features_u['views_por_dias'] = features_u['views'] / features_u['tempo_desd_pub']\n",
    "features_u = features_u.drop(['tempo_desd_pub'], axis =1)"
   ]
  },
  {
   "cell_type": "code",
   "execution_count": 44,
   "id": "damaged-information",
   "metadata": {},
   "outputs": [],
   "source": [
    "import pandas as pd\n",
    "from sklearn.feature_extraction.text import TfidfVectorizer"
   ]
  },
  {
   "cell_type": "code",
   "execution_count": 45,
   "id": "transparent-valve",
   "metadata": {},
   "outputs": [],
   "source": [
    "title_u = df_limpo_u['title']\n",
    "title_bow_u = title_vec.transform(title_u)"
   ]
  },
  {
   "cell_type": "code",
   "execution_count": 46,
   "id": "finished-transformation",
   "metadata": {},
   "outputs": [],
   "source": [
    "Xu_wtitle=hstack([features_u, title_bow_u])"
   ]
  },
  {
   "cell_type": "code",
   "execution_count": 47,
   "id": "nuclear-taylor",
   "metadata": {},
   "outputs": [],
   "source": [
    "pu = mdl.predict_proba(Xu_wtitle)[:, 1]"
   ]
  },
  {
   "cell_type": "code",
   "execution_count": 48,
   "id": "premium-rocket",
   "metadata": {},
   "outputs": [],
   "source": [
    "df_unlabeled['p'] = pu"
   ]
  },
  {
   "cell_type": "code",
   "execution_count": 49,
   "id": "neither-suggestion",
   "metadata": {},
   "outputs": [
    {
     "data": {
      "text/plain": [
       "84"
      ]
     },
     "execution_count": 49,
     "metadata": {},
     "output_type": "execute_result"
    }
   ],
   "source": [
    "mask_u =(df_unlabeled['p']>=0.26) &(df_unlabeled['p']<=1.)\n",
    "mask_u.sum()"
   ]
  },
  {
   "cell_type": "code",
   "execution_count": 50,
   "id": "fundamental-salon",
   "metadata": {},
   "outputs": [
    {
     "data": {
      "text/plain": [
       "(84, 17)"
      ]
     },
     "execution_count": 50,
     "metadata": {},
     "output_type": "execute_result"
    }
   ],
   "source": [
    "df_unlabeled[mask_u].shape"
   ]
  },
  {
   "cell_type": "code",
   "execution_count": 52,
   "id": "infrared-physics",
   "metadata": {},
   "outputs": [],
   "source": [
    "dificeis = df_unlabeled[mask_u]"
   ]
  },
  {
   "cell_type": "code",
   "execution_count": 54,
   "id": "hispanic-hawaiian",
   "metadata": {},
   "outputs": [],
   "source": [
    "aleatorios = df_unlabeled[~mask_u].sample(31, random_state=0) #selecione o que não é dessa máscara"
   ]
  },
  {
   "cell_type": "code",
   "execution_count": null,
   "id": "rolled-illinois",
   "metadata": {},
   "outputs": [],
   "source": [
    "pd.concat([dificeis, aleatorios]).to_csv(\"active_label\")"
   ]
  }
 ],
 "metadata": {
  "kernelspec": {
   "display_name": "Python 3",
   "language": "python",
   "name": "python3"
  },
  "language_info": {
   "codemirror_mode": {
    "name": "ipython",
    "version": 3
   },
   "file_extension": ".py",
   "mimetype": "text/x-python",
   "name": "python",
   "nbconvert_exporter": "python",
   "pygments_lexer": "ipython3",
   "version": "3.9.1"
  }
 },
 "nbformat": 4,
 "nbformat_minor": 5
}
