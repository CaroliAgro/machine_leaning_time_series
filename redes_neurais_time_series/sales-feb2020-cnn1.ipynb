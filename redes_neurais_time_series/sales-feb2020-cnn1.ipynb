{
 "cells": [
  {
   "cell_type": "code",
   "execution_count": 48,
   "metadata": {},
   "outputs": [],
   "source": [
    "import tensorflow as tf\n",
    "#import tensorflow.keras as tfk\n",
    "import pandas as pd\n",
    "import numpy as np\n",
    "%matplotlib inline"
   ]
  },
  {
   "cell_type": "code",
   "execution_count": 49,
   "metadata": {},
   "outputs": [],
   "source": [
    "data = pd.read_csv(\"ts_hr_feb_2020.csv.zip\", parse_dates=['date'])"
   ]
  },
  {
   "cell_type": "code",
   "execution_count": 50,
   "metadata": {},
   "outputs": [
    {
     "data": {
      "text/html": [
       "<div>\n",
       "<style scoped>\n",
       "    .dataframe tbody tr th:only-of-type {\n",
       "        vertical-align: middle;\n",
       "    }\n",
       "\n",
       "    .dataframe tbody tr th {\n",
       "        vertical-align: top;\n",
       "    }\n",
       "\n",
       "    .dataframe thead th {\n",
       "        text-align: right;\n",
       "    }\n",
       "</style>\n",
       "<table border=\"1\" class=\"dataframe\">\n",
       "  <thead>\n",
       "    <tr style=\"text-align: right;\">\n",
       "      <th></th>\n",
       "      <th>date</th>\n",
       "      <th>sales_value</th>\n",
       "    </tr>\n",
       "  </thead>\n",
       "  <tbody>\n",
       "    <tr>\n",
       "      <th>0</th>\n",
       "      <td>2020-02-01 00:00:00</td>\n",
       "      <td>28.60</td>\n",
       "    </tr>\n",
       "    <tr>\n",
       "      <th>1</th>\n",
       "      <td>2020-02-01 01:00:00</td>\n",
       "      <td>122.84</td>\n",
       "    </tr>\n",
       "    <tr>\n",
       "      <th>2</th>\n",
       "      <td>2020-02-01 02:00:00</td>\n",
       "      <td>112.87</td>\n",
       "    </tr>\n",
       "    <tr>\n",
       "      <th>3</th>\n",
       "      <td>2020-02-01 03:00:00</td>\n",
       "      <td>357.20</td>\n",
       "    </tr>\n",
       "    <tr>\n",
       "      <th>4</th>\n",
       "      <td>2020-02-01 04:00:00</td>\n",
       "      <td>642.56</td>\n",
       "    </tr>\n",
       "  </tbody>\n",
       "</table>\n",
       "</div>"
      ],
      "text/plain": [
       "                 date  sales_value\n",
       "0 2020-02-01 00:00:00        28.60\n",
       "1 2020-02-01 01:00:00       122.84\n",
       "2 2020-02-01 02:00:00       112.87\n",
       "3 2020-02-01 03:00:00       357.20\n",
       "4 2020-02-01 04:00:00       642.56"
      ]
     },
     "execution_count": 50,
     "metadata": {},
     "output_type": "execute_result"
    }
   ],
   "source": [
    "data.head()"
   ]
  },
  {
   "cell_type": "code",
   "execution_count": 14,
   "metadata": {},
   "outputs": [
    {
     "data": {
      "text/plain": [
       "\u001b[0;31mInit signature:\u001b[0m\n",
       "\u001b[0mtf\u001b[0m\u001b[0;34m.\u001b[0m\u001b[0mkeras\u001b[0m\u001b[0;34m.\u001b[0m\u001b[0mlayers\u001b[0m\u001b[0;34m.\u001b[0m\u001b[0mConv1D\u001b[0m\u001b[0;34m(\u001b[0m\u001b[0;34m\u001b[0m\n",
       "\u001b[0;34m\u001b[0m    \u001b[0mfilters\u001b[0m\u001b[0;34m,\u001b[0m\u001b[0;34m\u001b[0m\n",
       "\u001b[0;34m\u001b[0m    \u001b[0mkernel_size\u001b[0m\u001b[0;34m,\u001b[0m\u001b[0;34m\u001b[0m\n",
       "\u001b[0;34m\u001b[0m    \u001b[0mstrides\u001b[0m\u001b[0;34m=\u001b[0m\u001b[0;36m1\u001b[0m\u001b[0;34m,\u001b[0m\u001b[0;34m\u001b[0m\n",
       "\u001b[0;34m\u001b[0m    \u001b[0mpadding\u001b[0m\u001b[0;34m=\u001b[0m\u001b[0;34m'valid'\u001b[0m\u001b[0;34m,\u001b[0m\u001b[0;34m\u001b[0m\n",
       "\u001b[0;34m\u001b[0m    \u001b[0mdata_format\u001b[0m\u001b[0;34m=\u001b[0m\u001b[0;34m'channels_last'\u001b[0m\u001b[0;34m,\u001b[0m\u001b[0;34m\u001b[0m\n",
       "\u001b[0;34m\u001b[0m    \u001b[0mdilation_rate\u001b[0m\u001b[0;34m=\u001b[0m\u001b[0;36m1\u001b[0m\u001b[0;34m,\u001b[0m\u001b[0;34m\u001b[0m\n",
       "\u001b[0;34m\u001b[0m    \u001b[0mactivation\u001b[0m\u001b[0;34m=\u001b[0m\u001b[0;32mNone\u001b[0m\u001b[0;34m,\u001b[0m\u001b[0;34m\u001b[0m\n",
       "\u001b[0;34m\u001b[0m    \u001b[0muse_bias\u001b[0m\u001b[0;34m=\u001b[0m\u001b[0;32mTrue\u001b[0m\u001b[0;34m,\u001b[0m\u001b[0;34m\u001b[0m\n",
       "\u001b[0;34m\u001b[0m    \u001b[0mkernel_initializer\u001b[0m\u001b[0;34m=\u001b[0m\u001b[0;34m'glorot_uniform'\u001b[0m\u001b[0;34m,\u001b[0m\u001b[0;34m\u001b[0m\n",
       "\u001b[0;34m\u001b[0m    \u001b[0mbias_initializer\u001b[0m\u001b[0;34m=\u001b[0m\u001b[0;34m'zeros'\u001b[0m\u001b[0;34m,\u001b[0m\u001b[0;34m\u001b[0m\n",
       "\u001b[0;34m\u001b[0m    \u001b[0mkernel_regularizer\u001b[0m\u001b[0;34m=\u001b[0m\u001b[0;32mNone\u001b[0m\u001b[0;34m,\u001b[0m\u001b[0;34m\u001b[0m\n",
       "\u001b[0;34m\u001b[0m    \u001b[0mbias_regularizer\u001b[0m\u001b[0;34m=\u001b[0m\u001b[0;32mNone\u001b[0m\u001b[0;34m,\u001b[0m\u001b[0;34m\u001b[0m\n",
       "\u001b[0;34m\u001b[0m    \u001b[0mactivity_regularizer\u001b[0m\u001b[0;34m=\u001b[0m\u001b[0;32mNone\u001b[0m\u001b[0;34m,\u001b[0m\u001b[0;34m\u001b[0m\n",
       "\u001b[0;34m\u001b[0m    \u001b[0mkernel_constraint\u001b[0m\u001b[0;34m=\u001b[0m\u001b[0;32mNone\u001b[0m\u001b[0;34m,\u001b[0m\u001b[0;34m\u001b[0m\n",
       "\u001b[0;34m\u001b[0m    \u001b[0mbias_constraint\u001b[0m\u001b[0;34m=\u001b[0m\u001b[0;32mNone\u001b[0m\u001b[0;34m,\u001b[0m\u001b[0;34m\u001b[0m\n",
       "\u001b[0;34m\u001b[0m    \u001b[0;34m**\u001b[0m\u001b[0mkwargs\u001b[0m\u001b[0;34m,\u001b[0m\u001b[0;34m\u001b[0m\n",
       "\u001b[0;34m\u001b[0m\u001b[0;34m)\u001b[0m\u001b[0;34m\u001b[0m\u001b[0;34m\u001b[0m\u001b[0m\n",
       "\u001b[0;31mDocstring:\u001b[0m     \n",
       "1D convolution layer (e.g. temporal convolution).\n",
       "\n",
       "This layer creates a convolution kernel that is convolved\n",
       "with the layer input over a single spatial (or temporal) dimension\n",
       "to produce a tensor of outputs.\n",
       "If `use_bias` is True, a bias vector is created and added to the outputs.\n",
       "Finally, if `activation` is not `None`,\n",
       "it is applied to the outputs as well.\n",
       "\n",
       "When using this layer as the first layer in a model,\n",
       "provide an `input_shape` argument\n",
       "(tuple of integers or `None`, e.g.\n",
       "`(10, 128)` for sequences of 10 vectors of 128-dimensional vectors,\n",
       "or `(None, 128)` for variable-length sequences of 128-dimensional vectors.\n",
       "\n",
       "Arguments:\n",
       "  filters: Integer, the dimensionality of the output space\n",
       "    (i.e. the number of output filters in the convolution).\n",
       "  kernel_size: An integer or tuple/list of a single integer,\n",
       "    specifying the length of the 1D convolution window.\n",
       "  strides: An integer or tuple/list of a single integer,\n",
       "    specifying the stride length of the convolution.\n",
       "    Specifying any stride value != 1 is incompatible with specifying\n",
       "    any `dilation_rate` value != 1.\n",
       "  padding: One of `\"valid\"`, `\"causal\"` or `\"same\"` (case-insensitive).\n",
       "    `\"causal\"` results in causal (dilated) convolutions, e.g. output[t]\n",
       "    does not depend on input[t+1:]. Useful when modeling temporal data\n",
       "    where the model should not violate the temporal order.\n",
       "    See [WaveNet: A Generative Model for Raw Audio, section\n",
       "      2.1](https://arxiv.org/abs/1609.03499).\n",
       "  data_format: A string,\n",
       "    one of `channels_last` (default) or `channels_first`.\n",
       "  dilation_rate: an integer or tuple/list of a single integer, specifying\n",
       "    the dilation rate to use for dilated convolution.\n",
       "    Currently, specifying any `dilation_rate` value != 1 is\n",
       "    incompatible with specifying any `strides` value != 1.\n",
       "  activation: Activation function to use.\n",
       "    If you don't specify anything, no activation is applied\n",
       "    (ie. \"linear\" activation: `a(x) = x`).\n",
       "  use_bias: Boolean, whether the layer uses a bias vector.\n",
       "  kernel_initializer: Initializer for the `kernel` weights matrix.\n",
       "  bias_initializer: Initializer for the bias vector.\n",
       "  kernel_regularizer: Regularizer function applied to\n",
       "    the `kernel` weights matrix.\n",
       "  bias_regularizer: Regularizer function applied to the bias vector.\n",
       "  activity_regularizer: Regularizer function applied to\n",
       "    the output of the layer (its \"activation\")..\n",
       "  kernel_constraint: Constraint function applied to the kernel matrix.\n",
       "  bias_constraint: Constraint function applied to the bias vector.\n",
       "\n",
       "Examples:\n",
       "  ```python\n",
       "  # Small convolutional model for 128-length vectors with 6 timesteps\n",
       "  # model.input_shape == (None, 6, 128)\n",
       "  \n",
       "  model = Sequential()\n",
       "  model.add(Conv1D(32, 3, \n",
       "            activation='relu', \n",
       "            input_shape=(6, 128)))\n",
       "  \n",
       "  # now: model.output_shape == (None, 4, 32)\n",
       "  ```\n",
       "\n",
       "Input shape:\n",
       "  3D tensor with shape: `(batch_size, steps, input_dim)`\n",
       "\n",
       "Output shape:\n",
       "  3D tensor with shape: `(batch_size, new_steps, filters)`\n",
       "    `steps` value might have changed due to padding or strides.\n",
       "\u001b[0;31mFile:\u001b[0m           ~/miniconda3/lib/python3.7/site-packages/tensorflow_core/python/keras/layers/convolutional.py\n",
       "\u001b[0;31mType:\u001b[0m           type\n",
       "\u001b[0;31mSubclasses:\u001b[0m     Conv1D\n"
      ]
     },
     "metadata": {},
     "output_type": "display_data"
    }
   ],
   "source": [
    "?tf.keras.layers.Conv1D"
   ]
  },
  {
   "cell_type": "code",
   "execution_count": 52,
   "metadata": {},
   "outputs": [
    {
     "name": "stdout",
     "output_type": "stream",
     "text": [
      "Model: \"model_3\"\n",
      "_________________________________________________________________\n",
      "Layer (type)                 Output Shape              Param #   \n",
      "=================================================================\n",
      "input_4 (InputLayer)         [(None, 24, 1)]           0         \n",
      "_________________________________________________________________\n",
      "conv1d_3 (Conv1D)            (None, 22, 10)            40        \n",
      "_________________________________________________________________\n",
      "flatten_3 (Flatten)          (None, 220)               0         \n",
      "_________________________________________________________________\n",
      "dense_6 (Dense)              (None, 200)               44200     \n",
      "_________________________________________________________________\n",
      "dense_7 (Dense)              (None, 24)                4824      \n",
      "=================================================================\n",
      "Total params: 49,064\n",
      "Trainable params: 49,064\n",
      "Non-trainable params: 0\n",
      "_________________________________________________________________\n"
     ]
    }
   ],
   "source": [
    "numerical_i = tf.keras.layers.Input((24, 1))\n",
    "numerical = tf.keras.layers.Conv1D(10, 3)(numerical_i)\n",
    "numerical = tf.keras.layers.Flatten()(numerical)\n",
    "dense = tf.keras.layers.Dense(200, 'relu')(numerical)\n",
    "out = tf.keras.layers.Dense(24, 'relu')(dense)\n",
    "\n",
    "mdl = tf.keras.Model(numerical_i, out)\n",
    "mdl.compile('adam', 'mae')\n",
    "mdl.summary()"
   ]
  },
  {
   "cell_type": "code",
   "execution_count": 16,
   "metadata": {},
   "outputs": [],
   "source": [
    "last_sunday = pd.to_datetime(\"2020-02-23\")\n",
    "train = data[data['date'] < last_sunday]\n",
    "val = data[data['date'] >= last_sunday]"
   ]
  },
  {
   "cell_type": "code",
   "execution_count": 60,
   "metadata": {},
   "outputs": [],
   "source": [
    "l = 24\n",
    "h = 24\n",
    "\n",
    "X = []\n",
    "Y = []\n",
    "for i in range(l,train.shape[0]-h):\n",
    "    f = train.iloc[i-l:i]['sales_value'].values #hoje\n",
    "    y = train.iloc[i:i+h]['sales_value'].values # 1 dia depois\n",
    "    \n",
    "    X.append(f)\n",
    "    Y.append(y)\n",
    "\n",
    "X = np.array(X)\n",
    "Y = np.array(Y)\n",
    "\n",
    "X = np.expand_dims(X, -1)\n",
    "#Y = np.expand_dims(Y, -1)"
   ]
  },
  {
   "cell_type": "code",
   "execution_count": 61,
   "metadata": {},
   "outputs": [
    {
     "data": {
      "text/plain": [
       "(479, 24, 1)"
      ]
     },
     "execution_count": 61,
     "metadata": {},
     "output_type": "execute_result"
    }
   ],
   "source": [
    "X.shape"
   ]
  },
  {
   "cell_type": "code",
   "execution_count": 62,
   "metadata": {},
   "outputs": [
    {
     "data": {
      "text/plain": [
       "(479, 24)"
      ]
     },
     "execution_count": 62,
     "metadata": {},
     "output_type": "execute_result"
    }
   ],
   "source": [
    "Y.shape"
   ]
  },
  {
   "cell_type": "code",
   "execution_count": 63,
   "metadata": {},
   "outputs": [
    {
     "name": "stdout",
     "output_type": "stream",
     "text": [
      "Train on 479 samples\n",
      "Epoch 1/5\n",
      "479/479 [==============================] - 2s 4ms/sample - loss: 680.6287\n",
      "Epoch 2/5\n",
      "479/479 [==============================] - 1s 2ms/sample - loss: 510.0402\n",
      "Epoch 3/5\n",
      "479/479 [==============================] - 1s 2ms/sample - loss: 498.1314\n",
      "Epoch 4/5\n",
      "479/479 [==============================] - 1s 2ms/sample - loss: 486.7407\n",
      "Epoch 5/5\n",
      "479/479 [==============================] - 1s 2ms/sample - loss: 477.3544\n"
     ]
    },
    {
     "data": {
      "text/plain": [
       "<tensorflow.python.keras.callbacks.History at 0x7fe7c88911d0>"
      ]
     },
     "execution_count": 63,
     "metadata": {},
     "output_type": "execute_result"
    }
   ],
   "source": [
    "mdl.fit(X, Y, batch_size=1, shuffle=True, epochs=5)"
   ]
  },
  {
   "cell_type": "code",
   "execution_count": 64,
   "metadata": {},
   "outputs": [],
   "source": [
    "Xv = []\n",
    "Yv = []\n",
    "for i in range(l,val.shape[0]-h):\n",
    "    f = val.iloc[i-l:i]['sales_value'].values #hoje\n",
    "    y = val.iloc[i:i+h]['sales_value'].values # 1 dia depois\n",
    "    \n",
    "    Xv.append(f)\n",
    "    Yv.append(y)\n",
    "\n",
    "Xv = np.array(Xv)\n",
    "Yv = np.array(Yv)\n",
    "\n",
    "Xv = np.expand_dims(Xv, -1)\n",
    "#Y = np.expand_dims(Y, -1)"
   ]
  },
  {
   "cell_type": "code",
   "execution_count": 65,
   "metadata": {},
   "outputs": [],
   "source": [
    "p = mdl.predict(Xv)"
   ]
  },
  {
   "cell_type": "code",
   "execution_count": 66,
   "metadata": {},
   "outputs": [
    {
     "data": {
      "text/plain": [
       "(121, 24)"
      ]
     },
     "execution_count": 66,
     "metadata": {},
     "output_type": "execute_result"
    }
   ],
   "source": [
    "Yv.shape"
   ]
  },
  {
   "cell_type": "code",
   "execution_count": 67,
   "metadata": {},
   "outputs": [
    {
     "data": {
      "text/plain": [
       "(121, 24)"
      ]
     },
     "execution_count": 67,
     "metadata": {},
     "output_type": "execute_result"
    }
   ],
   "source": [
    "p.shape"
   ]
  },
  {
   "cell_type": "code",
   "execution_count": 68,
   "metadata": {},
   "outputs": [
    {
     "data": {
      "text/plain": [
       "473.82915115421474"
      ]
     },
     "execution_count": 68,
     "metadata": {},
     "output_type": "execute_result"
    }
   ],
   "source": [
    "from sklearn.metrics import mean_absolute_error\n",
    "mean_absolute_error(Yv, p)"
   ]
  },
  {
   "cell_type": "code",
   "execution_count": 41,
   "metadata": {},
   "outputs": [],
   "source": [
    "p_base = np.ones(Yv.shape)*np.median(Y, axis=0)"
   ]
  },
  {
   "cell_type": "code",
   "execution_count": 69,
   "metadata": {},
   "outputs": [
    {
     "data": {
      "text/plain": [
       "array([[1864.34, 1864.34, 1864.34, ..., 1816.54, 1807.54, 1807.54],\n",
       "       [1864.34, 1864.34, 1864.34, ..., 1816.54, 1807.54, 1807.54],\n",
       "       [1864.34, 1864.34, 1864.34, ..., 1816.54, 1807.54, 1807.54],\n",
       "       ...,\n",
       "       [1864.34, 1864.34, 1864.34, ..., 1816.54, 1807.54, 1807.54],\n",
       "       [1864.34, 1864.34, 1864.34, ..., 1816.54, 1807.54, 1807.54],\n",
       "       [1864.34, 1864.34, 1864.34, ..., 1816.54, 1807.54, 1807.54]])"
      ]
     },
     "execution_count": 69,
     "metadata": {},
     "output_type": "execute_result"
    }
   ],
   "source": [
    "p_base"
   ]
  },
  {
   "cell_type": "code",
   "execution_count": 70,
   "metadata": {},
   "outputs": [
    {
     "data": {
      "text/plain": [
       "829.0155612947652"
      ]
     },
     "execution_count": 70,
     "metadata": {},
     "output_type": "execute_result"
    }
   ],
   "source": [
    "mean_absolute_error(Yv, p_base)"
   ]
  },
  {
   "cell_type": "code",
   "execution_count": 140,
   "metadata": {},
   "outputs": [],
   "source": [
    "# 447.9483532096762 - 1\n",
    "# 389.7420670383758 - 2\n",
    "# 412.0128835990081 - 4\n",
    "# 440.49684000899623 - 8"
   ]
  },
  {
   "cell_type": "code",
   "execution_count": 71,
   "metadata": {},
   "outputs": [
    {
     "data": {
      "text/plain": [
       "<matplotlib.axes._subplots.AxesSubplot at 0x7fe7c8a32cd0>"
      ]
     },
     "execution_count": 71,
     "metadata": {},
     "output_type": "execute_result"
    },
    {
     "data": {
      "image/png": "[encoded data removed]",
      "text/plain": [
       "<Figure size 864x504 with 1 Axes>"
      ]
     },
     "metadata": {
      "needs_background": "light"
     },
     "output_type": "display_data"
    }
   ],
   "source": [
    "pd.DataFrame({'p': p[71,:], 'y': Yv[71,:]}).plot(figsize=(12,7))"
   ]
  },
  {
   "cell_type": "code",
   "execution_count": null,
   "metadata": {},
   "outputs": [],
   "source": []
  }
 ],
 "metadata": {
  "kernelspec": {
   "display_name": "Python 3",
   "language": "python",
   "name": "python3"
  },
  "language_info": {
   "codemirror_mode": {
    "name": "ipython",
    "version": 3
   },
   "file_extension": ".py",
   "mimetype": "text/x-python",
   "name": "python",
   "nbconvert_exporter": "python",
   "pygments_lexer": "ipython3",
   "version": "3.9.1"
  }
 },
 "nbformat": 4,
 "nbformat_minor": 4
}
