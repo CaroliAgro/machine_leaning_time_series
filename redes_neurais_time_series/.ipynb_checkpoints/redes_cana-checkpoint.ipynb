{
 "cells": [
  {
   "cell_type": "code",
   "execution_count": 1,
   "metadata": {
    "colab": {
     "base_uri": "https://localhost:8080/"
    },
    "executionInfo": {
     "elapsed": 35069,
     "status": "ok",
     "timestamp": 1613309431146,
     "user": {
      "displayName": "Carolina Tavares de Oliveira",
      "photoUrl": "",
      "userId": "06460862527615398465"
     },
     "user_tz": 180
    },
    "id": "8jQbePkWuqdC",
    "outputId": "4f7593c8-a4a3-4aa4-af17-2ae9bc098670"
   },
   "outputs": [
    {
     "name": "stdout",
     "output_type": "stream",
     "text": [
      "Mounted at /content/drive\n"
     ]
    }
   ],
   "source": [
    "from google.colab import drive\n",
    "drive.mount('/content/drive')"
   ]
  },
  {
   "cell_type": "code",
   "execution_count": 94,
   "metadata": {
    "executionInfo": {
     "elapsed": 738,
     "status": "ok",
     "timestamp": 1613314738895,
     "user": {
      "displayName": "Carolina Tavares de Oliveira",
      "photoUrl": "",
      "userId": "06460862527615398465"
     },
     "user_tz": 180
    },
    "id": "ASpLEe1WvSzo"
   },
   "outputs": [],
   "source": [
    "import pandas as pd"
   ]
  },
  {
   "cell_type": "code",
   "execution_count": 95,
   "metadata": {
    "executionInfo": {
     "elapsed": 437,
     "status": "ok",
     "timestamp": 1613314739305,
     "user": {
      "displayName": "Carolina Tavares de Oliveira",
      "photoUrl": "",
      "userId": "06460862527615398465"
     },
     "user_tz": 180
    },
    "id": "vk7p16Xou68u"
   },
   "outputs": [],
   "source": [
    "data = pd.read_csv('drive/My Drive/redes_cana/produtividade.csv', encoding='ISO-8859-1')"
   ]
  },
  {
   "cell_type": "code",
   "execution_count": 96,
   "metadata": {
    "executionInfo": {
     "elapsed": 719,
     "status": "ok",
     "timestamp": 1613314740589,
     "user": {
      "displayName": "Carolina Tavares de Oliveira",
      "photoUrl": "",
      "userId": "06460862527615398465"
     },
     "user_tz": 180
    },
    "id": "W0vjiUVbvXHg"
   },
   "outputs": [],
   "source": [
    "data = data.T"
   ]
  },
  {
   "cell_type": "code",
   "execution_count": 97,
   "metadata": {
    "executionInfo": {
     "elapsed": 877,
     "status": "ok",
     "timestamp": 1613314741584,
     "user": {
      "displayName": "Carolina Tavares de Oliveira",
      "photoUrl": "",
      "userId": "06460862527615398465"
     },
     "user_tz": 180
    },
    "id": "qsOZ9z9SzJeK"
   },
   "outputs": [],
   "source": [
    "data.columns = data.iloc[0, :]"
   ]
  },
  {
   "cell_type": "code",
   "execution_count": 98,
   "metadata": {
    "executionInfo": {
     "elapsed": 481,
     "status": "ok",
     "timestamp": 1613314741929,
     "user": {
      "displayName": "Carolina Tavares de Oliveira",
      "photoUrl": "",
      "userId": "06460862527615398465"
     },
     "user_tz": 180
    },
    "id": "ay-LWkbO0bhL"
   },
   "outputs": [],
   "source": [
    "data.drop(data.index[0], inplace=True)"
   ]
  },
  {
   "cell_type": "code",
   "execution_count": 99,
   "metadata": {
    "executionInfo": {
     "elapsed": 628,
     "status": "ok",
     "timestamp": 1613314742681,
     "user": {
      "displayName": "Carolina Tavares de Oliveira",
      "photoUrl": "",
      "userId": "06460862527615398465"
     },
     "user_tz": 180
    },
    "id": "WSu6WweK4B0R"
   },
   "outputs": [],
   "source": [
    "data.reset_index(inplace=True)"
   ]
  },
  {
   "cell_type": "code",
   "execution_count": 100,
   "metadata": {
    "executionInfo": {
     "elapsed": 809,
     "status": "ok",
     "timestamp": 1613314745252,
     "user": {
      "displayName": "Carolina Tavares de Oliveira",
      "photoUrl": "",
      "userId": "06460862527615398465"
     },
     "user_tz": 180
    },
    "id": "VePLDXMy4i8o"
   },
   "outputs": [],
   "source": [
    "\n",
    "data['index'] = data['index'].str.extract(r\"(\\d+)/\")"
   ]
  },
  {
   "cell_type": "code",
   "execution_count": 101,
   "metadata": {
    "executionInfo": {
     "elapsed": 811,
     "status": "ok",
     "timestamp": 1613314746039,
     "user": {
      "displayName": "Carolina Tavares de Oliveira",
      "photoUrl": "",
      "userId": "06460862527615398465"
     },
     "user_tz": 180
    },
    "id": "FgAg7Yym5qUW"
   },
   "outputs": [],
   "source": [
    "data['index'] = pd.to_datetime(data['index'], format=\"%Y\")"
   ]
  },
  {
   "cell_type": "code",
   "execution_count": 102,
   "metadata": {
    "executionInfo": {
     "elapsed": 784,
     "status": "ok",
     "timestamp": 1613314748831,
     "user": {
      "displayName": "Carolina Tavares de Oliveira",
      "photoUrl": "",
      "userId": "06460862527615398465"
     },
     "user_tz": 180
    },
    "id": "BUEFtajg85Z8"
   },
   "outputs": [],
   "source": [
    "for i in data.columns:\n",
    "  data[i] = data[i].map(lambda x: None  if x==' -  'else x)"
   ]
  },
  {
   "cell_type": "code",
   "execution_count": 104,
   "metadata": {
    "executionInfo": {
     "elapsed": 760,
     "status": "ok",
     "timestamp": 1613314762233,
     "user": {
      "displayName": "Carolina Tavares de Oliveira",
      "photoUrl": "",
      "userId": "06460862527615398465"
     },
     "user_tz": 180
    },
    "id": "rMBeUgt29MG0"
   },
   "outputs": [],
   "source": [
    "df = data.iloc[:, 1:].applymap(lambda x: float(x) if x else None)"
   ]
  },
  {
   "cell_type": "code",
   "execution_count": 106,
   "metadata": {
    "executionInfo": {
     "elapsed": 841,
     "status": "ok",
     "timestamp": 1613314849484,
     "user": {
      "displayName": "Carolina Tavares de Oliveira",
      "photoUrl": "",
      "userId": "06460862527615398465"
     },
     "user_tz": 180
    },
    "id": "EuRqMQf1_S6S"
   },
   "outputs": [],
   "source": [
    "df = df.set_index(data['index'])"
   ]
  },
  {
   "cell_type": "code",
   "execution_count": 109,
   "metadata": {
    "executionInfo": {
     "elapsed": 755,
     "status": "ok",
     "timestamp": 1613314932234,
     "user": {
      "displayName": "Carolina Tavares de Oliveira",
      "photoUrl": "",
      "userId": "06460862527615398465"
     },
     "user_tz": 180
    },
    "id": "AK4D5TUSDwz8"
   },
   "outputs": [],
   "source": [
    "df.dropna(axis=1,inplace=True)"
   ]
  },
  {
   "cell_type": "code",
   "execution_count": 110,
   "metadata": {
    "colab": {
     "base_uri": "https://localhost:8080/",
     "height": 235
    },
    "executionInfo": {
     "elapsed": 840,
     "status": "ok",
     "timestamp": 1613314944214,
     "user": {
      "displayName": "Carolina Tavares de Oliveira",
      "photoUrl": "",
      "userId": "06460862527615398465"
     },
     "user_tz": 180
    },
    "id": "vvUWNN6fEDrg",
    "outputId": "97c3489f-31c6-49c4-e314-da6ef94eb052"
   },
   "outputs": [
    {
     "data": {
      "text/html": [
       "<div>\n",
       "<style scoped>\n",
       "    .dataframe tbody tr th:only-of-type {\n",
       "        vertical-align: middle;\n",
       "    }\n",
       "\n",
       "    .dataframe tbody tr th {\n",
       "        vertical-align: top;\n",
       "    }\n",
       "\n",
       "    .dataframe thead th {\n",
       "        text-align: right;\n",
       "    }\n",
       "</style>\n",
       "<table border=\"1\" class=\"dataframe\">\n",
       "  <thead>\n",
       "    <tr style=\"text-align: right;\">\n",
       "      <th>REGIÃO/UF</th>\n",
       "      <th>AM</th>\n",
       "      <th>PA</th>\n",
       "      <th>TO</th>\n",
       "      <th>MA</th>\n",
       "      <th>PI</th>\n",
       "      <th>RN</th>\n",
       "      <th>PB</th>\n",
       "      <th>PE</th>\n",
       "      <th>AL</th>\n",
       "      <th>SE</th>\n",
       "      <th>BA</th>\n",
       "      <th>MT</th>\n",
       "      <th>MS</th>\n",
       "      <th>GO</th>\n",
       "      <th>MG</th>\n",
       "      <th>ES</th>\n",
       "      <th>RJ</th>\n",
       "      <th>SP</th>\n",
       "      <th>PR</th>\n",
       "      <th>RS</th>\n",
       "    </tr>\n",
       "    <tr>\n",
       "      <th>index</th>\n",
       "      <th></th>\n",
       "      <th></th>\n",
       "      <th></th>\n",
       "      <th></th>\n",
       "      <th></th>\n",
       "      <th></th>\n",
       "      <th></th>\n",
       "      <th></th>\n",
       "      <th></th>\n",
       "      <th></th>\n",
       "      <th></th>\n",
       "      <th></th>\n",
       "      <th></th>\n",
       "      <th></th>\n",
       "      <th></th>\n",
       "      <th></th>\n",
       "      <th></th>\n",
       "      <th></th>\n",
       "      <th></th>\n",
       "      <th></th>\n",
       "    </tr>\n",
       "  </thead>\n",
       "  <tbody>\n",
       "    <tr>\n",
       "      <th>2005-01-01</th>\n",
       "      <td>50.75</td>\n",
       "      <td>58.300</td>\n",
       "      <td>62.043</td>\n",
       "      <td>62.043</td>\n",
       "      <td>64.990</td>\n",
       "      <td>49.553</td>\n",
       "      <td>45.588</td>\n",
       "      <td>47.495</td>\n",
       "      <td>61.256</td>\n",
       "      <td>57.158</td>\n",
       "      <td>66.718</td>\n",
       "      <td>65.535</td>\n",
       "      <td>70.451</td>\n",
       "      <td>76.795</td>\n",
       "      <td>79.029</td>\n",
       "      <td>65.871</td>\n",
       "      <td>44.770</td>\n",
       "      <td>84.390</td>\n",
       "      <td>69.365</td>\n",
       "      <td>27.960</td>\n",
       "    </tr>\n",
       "    <tr>\n",
       "      <th>2006-01-01</th>\n",
       "      <td>56.90</td>\n",
       "      <td>70.160</td>\n",
       "      <td>56.030</td>\n",
       "      <td>58.100</td>\n",
       "      <td>65.700</td>\n",
       "      <td>52.320</td>\n",
       "      <td>52.700</td>\n",
       "      <td>51.173</td>\n",
       "      <td>62.500</td>\n",
       "      <td>52.310</td>\n",
       "      <td>50.270</td>\n",
       "      <td>67.100</td>\n",
       "      <td>79.250</td>\n",
       "      <td>79.725</td>\n",
       "      <td>79.900</td>\n",
       "      <td>58.650</td>\n",
       "      <td>45.000</td>\n",
       "      <td>86.620</td>\n",
       "      <td>78.280</td>\n",
       "      <td>35.100</td>\n",
       "    </tr>\n",
       "    <tr>\n",
       "      <th>2007-01-01</th>\n",
       "      <td>80.50</td>\n",
       "      <td>68.146</td>\n",
       "      <td>50.000</td>\n",
       "      <td>61.311</td>\n",
       "      <td>68.718</td>\n",
       "      <td>55.406</td>\n",
       "      <td>54.373</td>\n",
       "      <td>64.496</td>\n",
       "      <td>69.970</td>\n",
       "      <td>66.111</td>\n",
       "      <td>71.997</td>\n",
       "      <td>72.177</td>\n",
       "      <td>75.251</td>\n",
       "      <td>73.781</td>\n",
       "      <td>73.448</td>\n",
       "      <td>67.776</td>\n",
       "      <td>71.126</td>\n",
       "      <td>89.040</td>\n",
       "      <td>84.271</td>\n",
       "      <td>57.150</td>\n",
       "    </tr>\n",
       "    <tr>\n",
       "      <th>2008-01-01</th>\n",
       "      <td>80.50</td>\n",
       "      <td>66.146</td>\n",
       "      <td>52.000</td>\n",
       "      <td>61.311</td>\n",
       "      <td>68.718</td>\n",
       "      <td>55.406</td>\n",
       "      <td>54.373</td>\n",
       "      <td>59.489</td>\n",
       "      <td>63.426</td>\n",
       "      <td>66.111</td>\n",
       "      <td>71.997</td>\n",
       "      <td>72.177</td>\n",
       "      <td>75.251</td>\n",
       "      <td>73.781</td>\n",
       "      <td>73.448</td>\n",
       "      <td>67.776</td>\n",
       "      <td>71.126</td>\n",
       "      <td>89.040</td>\n",
       "      <td>84.271</td>\n",
       "      <td>57.150</td>\n",
       "    </tr>\n",
       "    <tr>\n",
       "      <th>2009-01-01</th>\n",
       "      <td>55.09</td>\n",
       "      <td>57.193</td>\n",
       "      <td>66.000</td>\n",
       "      <td>56.090</td>\n",
       "      <td>74.600</td>\n",
       "      <td>51.799</td>\n",
       "      <td>54.700</td>\n",
       "      <td>55.400</td>\n",
       "      <td>54.700</td>\n",
       "      <td>59.360</td>\n",
       "      <td>78.800</td>\n",
       "      <td>69.195</td>\n",
       "      <td>87.785</td>\n",
       "      <td>84.960</td>\n",
       "      <td>84.786</td>\n",
       "      <td>58.933</td>\n",
       "      <td>71.126</td>\n",
       "      <td>87.815</td>\n",
       "      <td>84.900</td>\n",
       "      <td>48.826</td>\n",
       "    </tr>\n",
       "  </tbody>\n",
       "</table>\n",
       "</div>"
      ],
      "text/plain": [
       "REGIÃO/UF      AM      PA      TO      MA  ...      RJ      SP      PR      RS\n",
       "index                                      ...                                \n",
       "2005-01-01  50.75  58.300  62.043  62.043  ...  44.770  84.390  69.365  27.960\n",
       "2006-01-01  56.90  70.160  56.030  58.100  ...  45.000  86.620  78.280  35.100\n",
       "2007-01-01  80.50  68.146  50.000  61.311  ...  71.126  89.040  84.271  57.150\n",
       "2008-01-01  80.50  66.146  52.000  61.311  ...  71.126  89.040  84.271  57.150\n",
       "2009-01-01  55.09  57.193  66.000  56.090  ...  71.126  87.815  84.900  48.826\n",
       "\n",
       "[5 rows x 20 columns]"
      ]
     },
     "execution_count": 110,
     "metadata": {
      "tags": []
     },
     "output_type": "execute_result"
    }
   ],
   "source": [
    "df.head()"
   ]
  },
  {
   "cell_type": "code",
   "execution_count": 111,
   "metadata": {
    "executionInfo": {
     "elapsed": 2692,
     "status": "ok",
     "timestamp": 1613315082960,
     "user": {
      "displayName": "Carolina Tavares de Oliveira",
      "photoUrl": "",
      "userId": "06460862527615398465"
     },
     "user_tz": 180
    },
    "id": "l-j0vpS6EGlc"
   },
   "outputs": [],
   "source": [
    "import tensorflow as tf\n",
    "import pandas as pd\n",
    "import numpy as np"
   ]
  },
  {
   "cell_type": "code",
   "execution_count": 136,
   "metadata": {
    "colab": {
     "base_uri": "https://localhost:8080/"
    },
    "executionInfo": {
     "elapsed": 819,
     "status": "ok",
     "timestamp": 1613317790255,
     "user": {
      "displayName": "Carolina Tavares de Oliveira",
      "photoUrl": "",
      "userId": "06460862527615398465"
     },
     "user_tz": 180
    },
    "id": "gPwcSikHEoAY",
    "outputId": "fbf3a58e-42bc-4ed6-bf9c-e25561f68cb2"
   },
   "outputs": [
    {
     "name": "stdout",
     "output_type": "stream",
     "text": [
      "Model: \"model_4\"\n",
      "_________________________________________________________________\n",
      "Layer (type)                 Output Shape              Param #   \n",
      "=================================================================\n",
      "input_5 (InputLayer)         [(None, 3, 1)]            0         \n",
      "_________________________________________________________________\n",
      "conv1d_4 (Conv1D)            (None, 2, 10)             30        \n",
      "_________________________________________________________________\n",
      "flatten_4 (Flatten)          (None, 20)                0         \n",
      "_________________________________________________________________\n",
      "dense_8 (Dense)              (None, 28)                588       \n",
      "_________________________________________________________________\n",
      "dense_9 (Dense)              (None, 1)                 29        \n",
      "=================================================================\n",
      "Total params: 647\n",
      "Trainable params: 647\n",
      "Non-trainable params: 0\n",
      "_________________________________________________________________\n"
     ]
    }
   ],
   "source": [
    "numerical_i = tf.keras.layers.Input((3,1))\n",
    "numerical=tf.keras.layers.Conv1D(10,2)(numerical_i)\n",
    "numerical = tf.keras.layers.Flatten()(numerical)\n",
    "dense = tf.keras.layers.Dense(28,'relu')(numerical)\n",
    "out = tf.keras.layers.Dense(1, 'relu')(dense)\n",
    "mdl = tf.keras.Model(numerical_i, out)\n",
    "mdl.compile('adam', 'mae')\n",
    "mdl.summary()"
   ]
  },
  {
   "cell_type": "code",
   "execution_count": 137,
   "metadata": {
    "executionInfo": {
     "elapsed": 804,
     "status": "ok",
     "timestamp": 1613317793726,
     "user": {
      "displayName": "Carolina Tavares de Oliveira",
      "photoUrl": "",
      "userId": "06460862527615398465"
     },
     "user_tz": 180
    },
    "id": "flsol7oQGXpN"
   },
   "outputs": [],
   "source": [
    "limiar = pd.to_datetime('2013-01-01')\n",
    "train = df[df.index<limiar]\n",
    "valid = df[df.index>=limiar]"
   ]
  },
  {
   "cell_type": "code",
   "execution_count": 139,
   "metadata": {
    "executionInfo": {
     "elapsed": 868,
     "status": "ok",
     "timestamp": 1613317811958,
     "user": {
      "displayName": "Carolina Tavares de Oliveira",
      "photoUrl": "",
      "userId": "06460862527615398465"
     },
     "user_tz": 180
    },
    "id": "HEcrAKpbMSAl"
   },
   "outputs": [],
   "source": [
    "#uso os 3 ultimos anos para prever o futuro\n",
    "l = 3\n",
    "h = 1\n",
    "X = []\n",
    "Y = []\n",
    "for i in range(l, train.shape[0] - h):\n",
    "  f = train.iloc[i-l: i]['AM'].values\n",
    "  y = train.iloc[i:i+h]['AM'].values\n",
    "  X.append(f)\n",
    "  Y.append(y)\n",
    "X = np.array(X)\n",
    "Y = np.array(Y)\n",
    "X = np.expand_dims(X, -1)"
   ]
  },
  {
   "cell_type": "code",
   "execution_count": 140,
   "metadata": {
    "colab": {
     "base_uri": "https://localhost:8080/"
    },
    "executionInfo": {
     "elapsed": 992,
     "status": "ok",
     "timestamp": 1613317815437,
     "user": {
      "displayName": "Carolina Tavares de Oliveira",
      "photoUrl": "",
      "userId": "06460862527615398465"
     },
     "user_tz": 180
    },
    "id": "QBvjsx5pMumm",
    "outputId": "03452966-f823-42a8-9547-06e5df0caa6f"
   },
   "outputs": [
    {
     "name": "stdout",
     "output_type": "stream",
     "text": [
      "[[[50.75]\n",
      "  [56.9 ]\n",
      "  [80.5 ]]\n",
      "\n",
      " [[56.9 ]\n",
      "  [80.5 ]\n",
      "  [80.5 ]]\n",
      "\n",
      " [[80.5 ]\n",
      "  [80.5 ]\n",
      "  [55.09]]\n",
      "\n",
      " [[80.5 ]\n",
      "  [55.09]\n",
      "  [91.32]]]\n"
     ]
    }
   ],
   "source": [
    "print(X)"
   ]
  },
  {
   "cell_type": "code",
   "execution_count": 141,
   "metadata": {
    "colab": {
     "base_uri": "https://localhost:8080/"
    },
    "executionInfo": {
     "elapsed": 829,
     "status": "ok",
     "timestamp": 1613317818103,
     "user": {
      "displayName": "Carolina Tavares de Oliveira",
      "photoUrl": "",
      "userId": "06460862527615398465"
     },
     "user_tz": 180
    },
    "id": "6_4itz-5My5A",
    "outputId": "a1cc7b8c-8ade-4f28-b545-5605ec706389"
   },
   "outputs": [
    {
     "name": "stdout",
     "output_type": "stream",
     "text": [
      "[[80.5  ]\n",
      " [55.09 ]\n",
      " [91.32 ]\n",
      " [75.918]]\n"
     ]
    }
   ],
   "source": [
    "print(Y)"
   ]
  },
  {
   "cell_type": "code",
   "execution_count": 142,
   "metadata": {
    "colab": {
     "base_uri": "https://localhost:8080/"
    },
    "executionInfo": {
     "elapsed": 1209,
     "status": "ok",
     "timestamp": 1613317821701,
     "user": {
      "displayName": "Carolina Tavares de Oliveira",
      "photoUrl": "",
      "userId": "06460862527615398465"
     },
     "user_tz": 180
    },
    "id": "72x4m4tnNOBy",
    "outputId": "7ef35e05-e3bd-4f33-fa39-b42259325d67"
   },
   "outputs": [
    {
     "name": "stdout",
     "output_type": "stream",
     "text": [
      "Epoch 1/12\n",
      "4/4 [==============================] - 0s 3ms/step - loss: 54.6787\n",
      "Epoch 2/12\n",
      "4/4 [==============================] - 0s 3ms/step - loss: 51.0468\n",
      "Epoch 3/12\n",
      "4/4 [==============================] - 0s 2ms/step - loss: 43.0677\n",
      "Epoch 4/12\n",
      "4/4 [==============================] - 0s 2ms/step - loss: 22.4553\n",
      "Epoch 5/12\n",
      "4/4 [==============================] - 0s 2ms/step - loss: 20.9332\n",
      "Epoch 6/12\n",
      "4/4 [==============================] - 0s 3ms/step - loss: 19.6618\n",
      "Epoch 7/12\n",
      "4/4 [==============================] - 0s 2ms/step - loss: 8.8719\n",
      "Epoch 8/12\n",
      "4/4 [==============================] - 0s 2ms/step - loss: 13.0791\n",
      "Epoch 9/12\n",
      "4/4 [==============================] - 0s 2ms/step - loss: 9.6113\n",
      "Epoch 10/12\n",
      "4/4 [==============================] - 0s 4ms/step - loss: 14.0693\n",
      "Epoch 11/12\n",
      "4/4 [==============================] - 0s 2ms/step - loss: 10.6663\n",
      "Epoch 12/12\n",
      "4/4 [==============================] - 0s 2ms/step - loss: 19.8831\n"
     ]
    },
    {
     "data": {
      "text/plain": [
       "<tensorflow.python.keras.callbacks.History at 0x7fe37bbd8518>"
      ]
     },
     "execution_count": 142,
     "metadata": {
      "tags": []
     },
     "output_type": "execute_result"
    }
   ],
   "source": [
    "mdl.fit(X, Y, batch_size=1, shuffle=True, epochs=12)"
   ]
  },
  {
   "cell_type": "code",
   "execution_count": 143,
   "metadata": {
    "executionInfo": {
     "elapsed": 866,
     "status": "ok",
     "timestamp": 1613317827905,
     "user": {
      "displayName": "Carolina Tavares de Oliveira",
      "photoUrl": "",
      "userId": "06460862527615398465"
     },
     "user_tz": 180
    },
    "id": "QUXL8locNpGT"
   },
   "outputs": [],
   "source": [
    "l = 3\n",
    "h = 1\n",
    "Xv = []\n",
    "Yv = []\n",
    "for i in range(l, valid.shape[0] - h):\n",
    "  f = valid.iloc[i-l: i]['AM'].values\n",
    "  y = valid.iloc[i:i+h]['AM'].values\n",
    "  Xv.append(f)\n",
    "  Yv.append(y)\n",
    "Xv = np.array(Xv)\n",
    "Yv = np.array(Yv)\n",
    "Xv = np.expand_dims(Xv, -1)"
   ]
  },
  {
   "cell_type": "code",
   "execution_count": 161,
   "metadata": {
    "executionInfo": {
     "elapsed": 765,
     "status": "ok",
     "timestamp": 1613318960893,
     "user": {
      "displayName": "Carolina Tavares de Oliveira",
      "photoUrl": "",
      "userId": "06460862527615398465"
     },
     "user_tz": 180
    },
    "id": "OuTTTHFYOP_V"
   },
   "outputs": [],
   "source": [
    "p = mdl.predict(Xv)"
   ]
  },
  {
   "cell_type": "code",
   "execution_count": 163,
   "metadata": {
    "colab": {
     "base_uri": "https://localhost:8080/"
    },
    "executionInfo": {
     "elapsed": 896,
     "status": "ok",
     "timestamp": 1613319326150,
     "user": {
      "displayName": "Carolina Tavares de Oliveira",
      "photoUrl": "",
      "userId": "06460862527615398465"
     },
     "user_tz": 180
    },
    "id": "MbPZmzrBOeeH",
    "outputId": "cc482af1-3485-4a7e-cdd5-91f75026a8d0"
   },
   "outputs": [
    {
     "name": "stdout",
     "output_type": "stream",
     "text": [
      "[[76.30058]\n",
      " [74.13311]\n",
      " [80.18794]\n",
      " [80.43771]]\n"
     ]
    }
   ],
   "source": [
    "print(p)"
   ]
  },
  {
   "cell_type": "code",
   "execution_count": 146,
   "metadata": {
    "colab": {
     "base_uri": "https://localhost:8080/"
    },
    "executionInfo": {
     "elapsed": 795,
     "status": "ok",
     "timestamp": 1613317840323,
     "user": {
      "displayName": "Carolina Tavares de Oliveira",
      "photoUrl": "",
      "userId": "06460862527615398465"
     },
     "user_tz": 180
    },
    "id": "HuLEWTH4OYSc",
    "outputId": "58aa0c3c-63b8-421b-e561-3b3659ac2b89"
   },
   "outputs": [
    {
     "data": {
      "text/plain": [
       "8.65348045349121"
      ]
     },
     "execution_count": 146,
     "metadata": {
      "tags": []
     },
     "output_type": "execute_result"
    }
   ],
   "source": [
    "from sklearn.metrics import mean_absolute_error\n",
    "mean_absolute_error(Yv, p)"
   ]
  },
  {
   "cell_type": "code",
   "execution_count": 164,
   "metadata": {
    "executionInfo": {
     "elapsed": 776,
     "status": "ok",
     "timestamp": 1613319374069,
     "user": {
      "displayName": "Carolina Tavares de Oliveira",
      "photoUrl": "",
      "userId": "06460862527615398465"
     },
     "user_tz": 180
    },
    "id": "HEJd7mUiSqZa"
   },
   "outputs": [],
   "source": [
    "p = p.flatten()\n",
    "Yv = Yv.flatten()"
   ]
  },
  {
   "cell_type": "code",
   "execution_count": 166,
   "metadata": {
    "colab": {
     "base_uri": "https://localhost:8080/",
     "height": 445
    },
    "executionInfo": {
     "elapsed": 1019,
     "status": "ok",
     "timestamp": 1613319447367,
     "user": {
      "displayName": "Carolina Tavares de Oliveira",
      "photoUrl": "",
      "userId": "06460862527615398465"
     },
     "user_tz": 180
    },
    "id": "-XwRPg0aTFKz",
    "outputId": "54e6c596-6422-46b9-a7de-0fcdd8c6aa61"
   },
   "outputs": [
    {
     "data": {
      "text/plain": [
       "<matplotlib.axes._subplots.AxesSubplot at 0x7fe37a470a90>"
      ]
     },
     "execution_count": 166,
     "metadata": {
      "tags": []
     },
     "output_type": "execute_result"
    },
    {
     "data": {
      "image/png": "[encoded data removed]",
      "text/plain": [
       "<Figure size 864x504 with 1 Axes>"
      ]
     },
     "metadata": {
      "needs_background": "light",
      "tags": []
     },
     "output_type": "display_data"
    }
   ],
   "source": [
    "pd.DataFrame({'p':p, 'Yv':Yv}).plot(figsize=(12,7))"
   ]
  },
  {
   "cell_type": "code",
   "execution_count": null,
   "metadata": {
    "id": "IpyE7ZvBTVrN"
   },
   "outputs": [],
   "source": []
  }
 ],
 "metadata": {
  "colab": {
   "authorship_tag": "ABX9TyN7o2voJRUeyhuFWfePzkR9",
   "name": "redes_cana.ipynb",
   "provenance": []
  },
  "kernelspec": {
   "display_name": "Python 3",
   "language": "python",
   "name": "python3"
  },
  "language_info": {
   "codemirror_mode": {
    "name": "ipython",
    "version": 3
   },
   "file_extension": ".py",
   "mimetype": "text/x-python",
   "name": "python",
   "nbconvert_exporter": "python",
   "pygments_lexer": "ipython3",
   "version": "3.9.1"
  }
 },
 "nbformat": 4,
 "nbformat_minor": 1
}
